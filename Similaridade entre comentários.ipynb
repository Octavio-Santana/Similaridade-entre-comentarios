{
 "metadata": {
  "name": ""
 },
 "nbformat": 3,
 "nbformat_minor": 0,
 "worksheets": [
  {
   "cells": [
    {
     "cell_type": "markdown",
     "metadata": {},
     "source": [
      "### Similaridade entre coment\u00e1rios\n",
      "\n",
      "    Neste notebook vou mostrar como construir um algoritmo que analisa o quanto semelhante s\u00e3o dois coment\u00e1rios, apenas para fins de estudo. Est\u00e1 n\u00e3o \u00e9 uma solu\u00e7\u00e3o completa, mas te dar uma ideia geral de como pode ser feito esse tipo de compara\u00e7\u00e3o apenas usando o conhecimento de \u00e1lgebra linear.\n",
      "    \n",
      "    Em seguida utilizarei a biblioteca sklearn como uma alternativa ao c\u00f3digo."
     ]
    },
    {
     "cell_type": "code",
     "collapsed": false,
     "input": [
      "import re\n",
      "import string\n",
      "import numpy as np"
     ],
     "language": "python",
     "metadata": {},
     "outputs": [],
     "prompt_number": 1
    },
    {
     "cell_type": "markdown",
     "metadata": {},
     "source": [
      "    Para esta analise de similaridade usei algumas frases curtas que foram escolhidas de maneira aleat\u00f3ria."
     ]
    },
    {
     "cell_type": "code",
     "collapsed": false,
     "input": [
      "corpus = np.array(['O importante n\u00e3o \u00e9 vencer todos os dias, mas lutar sempre.',\n",
      "          'Maior que a tristeza de n\u00e3o haver vencido \u00e9 a vergonha de n\u00e3o ter lutado!',\n",
      "          '\u00c9 melhor conquistar a si mesmo do que vencer mil batalhas.',\n",
      "          'Oi eu sou o goku!',\n",
      "          'Oi eu n\u00e3o sou o goku!!!',\n",
      "          'Oi seu nome \u00e9 goku(?)'])"
     ],
     "language": "python",
     "metadata": {},
     "outputs": [],
     "prompt_number": 2
    },
    {
     "cell_type": "code",
     "collapsed": false,
     "input": [
      "def clear_text(text):\n",
      "    \"\"\"\n",
      "    Limpar os textos, eliminando pontua\u00e7\u00f5es e converter \n",
      "    todo o texto com letras minusculas.\n",
      "    \"\"\"\n",
      "    pattern = \"[{}]\".format(string.punctuation)\n",
      "    text = [word.lower() for word in text]\n",
      "    text = [[re.sub(pattern, \"\", word) for word in words.split()] for words in text]\n",
      "    text = [[word for word in words if len(word)>1] for words in text]    \n",
      "    text = [' '.join(words) for words in text]\n",
      "    return np.array(text)"
     ],
     "language": "python",
     "metadata": {},
     "outputs": [],
     "prompt_number": 3
    },
    {
     "cell_type": "code",
     "collapsed": false,
     "input": [
      "corpus_clear = clear_text(corpus)\n",
      "\n",
      "print('-- Antes --')\n",
      "print(corpus[-1])\n",
      "print()\n",
      "print('-- Depois --')\n",
      "print(corpus_clear[-1])"
     ],
     "language": "python",
     "metadata": {},
     "outputs": [
      {
       "output_type": "stream",
       "stream": "stdout",
       "text": [
        "-- Antes --\n",
        "Oi seu nome \u00e9 goku(?)\n",
        "\n",
        "-- Depois --\n",
        "oi seu nome goku\n"
       ]
      }
     ],
     "prompt_number": 4
    },
    {
     "cell_type": "markdown",
     "metadata": {},
     "source": [
      "    Em seguida vamos construir um vetor com todas as palavras do corpus, ap\u00f3s ser feita a limpeza do mesmo."
     ]
    },
    {
     "cell_type": "code",
     "collapsed": false,
     "input": [
      "def text_all(text):\n",
      "    \"\"\"\n",
      "    Armazena em um vetor todas as palavras dos textos sem repeti\u00e7\u00f5es.\n",
      "    \"\"\"\n",
      "    text_set = set()\n",
      "    for w in [words.split() for words in text]:\n",
      "        text_set.update(w)\n",
      "    return np.array(list(text_set))\n",
      "\n",
      "vocabulary = text_all(corpus_clear)\n",
      "vocabulary"
     ],
     "language": "python",
     "metadata": {},
     "outputs": [
      {
       "metadata": {},
       "output_type": "pyout",
       "prompt_number": 5,
       "text": [
        "array(['oi', 'maior', 'melhor', 'tristeza', 'mesmo', 'ter', 'mil',\n",
        "       'batalhas', 'sou', 'do', 'eu', 'todos', 'vencido', 'seu', 'nome',\n",
        "       'importante', 'que', 'vergonha', 'si', 'sempre', 'vencer',\n",
        "       'lutado', 'de', 'os', 'conquistar', 'n\u00e3o', 'goku', 'mas', 'dias',\n",
        "       'haver', 'lutar'], dtype='<U10')"
       ]
      }
     ],
     "prompt_number": 5
    },
    {
     "cell_type": "code",
     "collapsed": false,
     "input": [
      "def fit_transform(text, words=vocabulary):\n",
      "    \"\"\"\n",
      "    Converte o texto em um vetor, onde compara se cada palavra obtida no vetor de \n",
      "    todas as palavras cont\u00e9m ou n\u00e3o em cada texto. \n",
      "    Insere 1 se sim e 0 se n\u00e3o.\n",
      "    \"\"\"\n",
      "    #return [1 if word in text.split() else 0 for word in words]\n",
      "    return [int(word in text.split()) for word in words]\n",
      "\n",
      "features = np.array(list(map(fit_transform, corpus_clear)))\n",
      "\n",
      "print(features)"
     ],
     "language": "python",
     "metadata": {},
     "outputs": [
      {
       "output_type": "stream",
       "stream": "stdout",
       "text": [
        "[[0 0 0 0 0 0 0 0 0 0 0 1 0 0 0 1 0 0 0 1 1 0 0 1 0 1 0 1 1 0 1]\n",
        " [0 1 0 1 0 1 0 0 0 0 0 0 1 0 0 0 1 1 0 0 0 1 1 0 0 1 0 0 0 1 0]\n",
        " [0 0 1 0 1 0 1 1 0 1 0 0 0 0 0 0 1 0 1 0 1 0 0 0 1 0 0 0 0 0 0]\n",
        " [1 0 0 0 0 0 0 0 1 0 1 0 0 0 0 0 0 0 0 0 0 0 0 0 0 0 1 0 0 0 0]\n",
        " [1 0 0 0 0 0 0 0 1 0 1 0 0 0 0 0 0 0 0 0 0 0 0 0 0 1 1 0 0 0 0]\n",
        " [1 0 0 0 0 0 0 0 0 0 0 0 0 1 1 0 0 0 0 0 0 0 0 0 0 0 1 0 0 0 0]]\n"
       ]
      }
     ],
     "prompt_number": 6
    },
    {
     "cell_type": "markdown",
     "metadata": {},
     "source": [
      "    Para determinar o quanto similar s\u00e3o os coment\u00e1rios, \u00e9 necess\u00e1rio utilizar algum procedimento (formula) para medir esta similaridade. Uma delas \u00e9 a m\u00e9trica chamada similaridade do cosseno. Quem j\u00e1 cursou \u00e1lgebra linear deve saber que o produto vetorial de dois vetores \u00e9 igual ao modulo de cada vetor vezes o cosseno do \u00e2ngulo formado entre eles. E \u00e9 justamente o cosseno que utilizaremos para determinar o quanto similar s\u00e3o os coment\u00e1rios."
     ]
    },
    {
     "cell_type": "code",
     "collapsed": false,
     "input": [
      "def cosine_similarity(v, w):\n",
      "    return np.dot(v, w)/np.sqrt(np.dot(v, v)*np.dot(w, w))    \n",
      "    #return np.dot(v, w)/(np.linalg.norm(v)*np.linalg.norm(w))"
     ],
     "language": "python",
     "metadata": {},
     "outputs": [],
     "prompt_number": 7
    },
    {
     "cell_type": "code",
     "collapsed": false,
     "input": [
      "def text_simillarities(id_text, features=features, text=corpus, n_text=3):\n",
      "    \"\"\"\n",
      "    Dado o texto a ser analisado, a fun\u00e7\u00e3o retorna em ordem descrecente quais os demais textos s\u00e3o\n",
      "    similares ao analisado. A fun\u00e7\u00e3o retorna matriz de 2 por n_text, onde a primeira e a segunda coluna\n",
      "    refere-se ao texto analisado e a similaridade do texto analisado, respectivamente.\n",
      "    \"\"\"\n",
      "    simillarity = [[cosine_similarity(features[id_text], feature), int(i)] for i, feature in enumerate(features)]\n",
      "    simillarity = np.array(sorted(simillarity, key=lambda sim: sim[0], reverse=True))    \n",
      "    return [[text[y], simillarity[x, 0]] for x, y in enumerate(np.int0(simillarity[1:,1]), 1)][:n_text]"
     ],
     "language": "python",
     "metadata": {},
     "outputs": [],
     "prompt_number": 8
    },
    {
     "cell_type": "code",
     "collapsed": false,
     "input": [
      "print('Texto analisado -> ',corpus[3], '\\n')\n",
      "for t, s in text_simillarities(3):\n",
      "    print('Texto: {} | Similaridade: {}'.format(t, round(s, 2)))"
     ],
     "language": "python",
     "metadata": {},
     "outputs": [
      {
       "output_type": "stream",
       "stream": "stdout",
       "text": [
        "Texto analisado ->  Oi eu sou o goku! \n",
        "\n",
        "Texto: Oi eu n\u00e3o sou o goku!!! | Similaridade: 0.89"
       ]
      },
      {
       "output_type": "stream",
       "stream": "stdout",
       "text": [
        "\n",
        "Texto: Oi seu nome \u00e9 goku(?) | Similaridade: 0.5\n",
        "Texto: O importante n\u00e3o \u00e9 vencer todos os dias, mas lutar sempre. | Similaridade: 0.0\n"
       ]
      }
     ],
     "prompt_number": 9
    },
    {
     "cell_type": "markdown",
     "metadata": {},
     "source": [
      "---\n",
      "\n",
      "### Faremos a mesma an\u00e1lise, usando a biblioteca sklearn"
     ]
    },
    {
     "cell_type": "code",
     "collapsed": false,
     "input": [
      "from sklearn.feature_extraction.text import CountVectorizer\n",
      "from sklearn.metrics.pairwise import cosine_similarity\n",
      "\n",
      "vectorizer = CountVectorizer(analyzer='word')\n",
      "features = vectorizer.fit_transform(corpus_clear).todense()"
     ],
     "language": "python",
     "metadata": {},
     "outputs": [],
     "prompt_number": 10
    },
    {
     "cell_type": "code",
     "collapsed": false,
     "input": [
      "def text_simillarities_2(id_text, features=features, text=corpus, n_text=3):\n",
      "    \"\"\"\n",
      "    Dado o texto a ser analisado, a fun\u00e7\u00e3o retorna em ordem descrecente quais os demais textos s\u00e3o\n",
      "    similares ao analisado. A fun\u00e7\u00e3o retorna matriz de 2 por n_text, onde a primeira e a segunda coluna\n",
      "    refere-se ao texto analisado e a similaridade do texto analisado, respectivamente.\n",
      "    \"\"\"\n",
      "    simillarity = [[cosine_similarity(features[id_text], feature)[0,0], int(i)] for i, feature in enumerate(features)]\n",
      "    simillarity = np.array(sorted(simillarity, key=lambda sim: sim[0], reverse=True))    \n",
      "    return [[text[y], simillarity[x, 0]] for x, y in enumerate(np.int0(simillarity[1:,1]), 1)][:n_text]"
     ],
     "language": "python",
     "metadata": {},
     "outputs": [],
     "prompt_number": 11
    },
    {
     "cell_type": "code",
     "collapsed": false,
     "input": [
      "print('Texto analisado -> ',corpus[3], '\\n')\n",
      "for t, s in text_simillarities_2(3):\n",
      "    print('Texto: {} | Similaridade: {}'.format(t, round(s, 2)))\n",
      "#text_simillarities_2(3)"
     ],
     "language": "python",
     "metadata": {},
     "outputs": [
      {
       "output_type": "stream",
       "stream": "stdout",
       "text": [
        "Texto analisado ->  Oi eu sou o goku! \n",
        "\n",
        "Texto: Oi eu n\u00e3o sou o goku!!! | Similaridade: 0.89"
       ]
      },
      {
       "output_type": "stream",
       "stream": "stdout",
       "text": [
        "\n",
        "Texto: Oi seu nome \u00e9 goku(?) | Similaridade: 0.5\n",
        "Texto: O importante n\u00e3o \u00e9 vencer todos os dias, mas lutar sempre. | Similaridade: 0.0\n"
       ]
      }
     ],
     "prompt_number": 12
    }
   ],
   "metadata": {}
  }
 ]
}